{
 "cells": [
  {
   "cell_type": "markdown",
   "id": "651751c8",
   "metadata": {},
   "source": [
    "# Preparing the necessary libraries and results"
   ]
  },
  {
   "cell_type": "code",
   "execution_count": 1,
   "id": "0e197795",
   "metadata": {},
   "outputs": [],
   "source": [
    "# import numpy and pandas libraries\n",
    "import numpy as np\n",
    "import pandas as pd\n",
    "\n",
    "# import the datetime library to work with dates\n",
    "import datetime\n",
    "from datetime import datetime, date, timedelta\n",
    "\n",
    "# Set some pandas library options that \n",
    "# configure output\n",
    "pd.set_option('display.notebook_repr_html', False)\n",
    "pd.set_option('display.max_columns', 8)\n",
    "pd.set_option('display.max_rows', 10)\n",
    "pd.set_option('display.width', 120)\n",
    "# disable exponential notation\n",
    "pd.set_option('display.float_format', lambda x: '%.3f' % x)"
   ]
  },
  {
   "cell_type": "markdown",
   "id": "2fc1b6d4",
   "metadata": {},
   "source": [
    "# Let's prepare data according to the mt4 and mt5 schemes"
   ]
  },
  {
   "cell_type": "markdown",
   "id": "53701de8",
   "metadata": {},
   "source": [
    "## mt4 preparing data for analysis"
   ]
  },
  {
   "cell_type": "code",
   "execution_count": 2,
   "id": "025ee841",
   "metadata": {},
   "outputs": [],
   "source": [
    "# write a CSV file to a DataFrame object\n",
    "mt4_trades = pd.read_csv(r\"interview_1_exmpl_mt4_trades.csv\", sep = ',')\n",
    "mt4_marked_trades = pd.read_csv(r\"interview_1_exmpl_mt4_marked_trades.csv\", sep = ',')"
   ]
  },
  {
   "cell_type": "markdown",
   "id": "c3c5f376",
   "metadata": {},
   "source": [
    "The mt4.trades table contains information about client transactions; it contains the following columns:\n",
    "\n",
    "    ticket     – primary key, deal identifier\n",
    "    login      – login of the client who made the transaction\n",
    "    open_time  – time of opening a trade\n",
    "    close_time – time of closing the deal. If the deal is not closed there is a zero time stamp\n",
    "    symbol     – symbol, instrument by which the transaction was made\n",
    "    cmd        – 0 if the deal is to buy, and 1 if the deal is to sell\n",
    "Thus, each transaction corresponds to 1 record."
   ]
  },
  {
   "cell_type": "markdown",
   "id": "caa9e152",
   "metadata": {},
   "source": [
    "The mt4.marked_trades table contains information about marked trades. \n",
    "Some of these transactions will need to be excluded from consideration (see below)\n",
    "\n",
    "    ticket – primary key, deal identifier\n",
    "    type – a bit mask that indicates the reason for the marking.\n",
    "If the first bit of the type mask (numbering from 0) is 1, then such a transaction does not need to be taken into account"
   ]
  },
  {
   "cell_type": "code",
   "execution_count": 3,
   "id": "87b7f582",
   "metadata": {},
   "outputs": [
    {
     "data": {
      "text/plain": [
       "        Unnamed: 0     ticket      login            open_time           close_time  symbol  cmd  volume\n",
       "0                0  372752301  290627505  2022-02-03 17:33:01  2022-02-03 17:39:00  EURUSD    0       3\n",
       "1                1  372752584  290627505  2022-02-03 17:34:02  2022-02-03 17:39:00  EURUSD    0       4\n",
       "2                2  372752581  290627505  2022-02-03 17:34:02  2022-02-03 17:39:04  EURUSD    0       3\n",
       "3                3  372752582  290627505  2022-02-03 17:34:02  2022-02-03 17:39:04  EURUSD    0       3\n",
       "4                4  372752586  290627505  2022-02-03 17:34:02  2022-02-03 17:39:04  EURUSD    0       3\n",
       "...            ...        ...        ...                  ...                  ...     ...  ...     ...\n",
       "265634      265634  372727735  290652685  2022-02-03 16:01:00  2022-02-11 21:02:11  EURUSD    1       5\n",
       "265635      265635  373022961  290652685  2022-02-07 17:22:32  2022-02-08 09:21:30  XAUUSD    1      33\n",
       "265636      265636  373034944  290652685  2022-02-07 18:33:19  2022-02-08 09:21:30  XAUUSD    1      59\n",
       "265637      265637  372737533  290652685  2022-02-03 16:36:01  2022-02-11 20:46:19  EURJPY    1       5\n",
       "265638      265638  372708879  290652685  2022-02-03 14:58:00  2022-02-11 21:02:11  EURUSD    1       5\n",
       "\n",
       "[265639 rows x 8 columns]"
      ]
     },
     "execution_count": 3,
     "metadata": {},
     "output_type": "execute_result"
    }
   ],
   "source": [
    "mt4_trades"
   ]
  },
  {
   "cell_type": "code",
   "execution_count": 4,
   "id": "d40bca8b",
   "metadata": {},
   "outputs": [
    {
     "data": {
      "text/plain": [
       "       Unnamed: 0     ticket  type\n",
       "0               0  372901954     2\n",
       "1               1  372743999     1\n",
       "2               2  373053139     2\n",
       "3               3  372612581     2\n",
       "4               4  372640437     2\n",
       "...           ...        ...   ...\n",
       "15113       15113  372522040    32\n",
       "15114       15114  372965069     2\n",
       "15115       15115  372934267    16\n",
       "15116       15116  372465264    16\n",
       "15117       15117  372421070    16\n",
       "\n",
       "[15118 rows x 3 columns]"
      ]
     },
     "execution_count": 4,
     "metadata": {},
     "output_type": "execute_result"
    }
   ],
   "source": [
    "mt4_marked_trades"
   ]
  },
  {
   "cell_type": "code",
   "execution_count": 5,
   "id": "79bcafc3",
   "metadata": {},
   "outputs": [
    {
     "data": {
      "text/plain": [
       "       Unnamed: 0     ticket  type  isExcluded\n",
       "0               0  372901954     2        True\n",
       "1               1  372743999     1       False\n",
       "2               2  373053139     2        True\n",
       "3               3  372612581     2        True\n",
       "4               4  372640437     2        True\n",
       "...           ...        ...   ...         ...\n",
       "15113       15113  372522040    32       False\n",
       "15114       15114  372965069     2        True\n",
       "15115       15115  372934267    16       False\n",
       "15116       15116  372465264    16       False\n",
       "15117       15117  372421070    16       False\n",
       "\n",
       "[15118 rows x 4 columns]"
      ]
     },
     "execution_count": 5,
     "metadata": {},
     "output_type": "execute_result"
    }
   ],
   "source": [
    "# Add a new column of excluded transactions isExcluded binary\n",
    "# according to the condition \n",
    "# (If the first bit of the type mask (numbering from 0) is equal to 1, \n",
    "# then such a transaction does not need to be taken into account)\n",
    "\n",
    "mt4_marked_trades['isExcluded'] = mt4_marked_trades.type &2 == 2\n",
    "mt4_marked_trades"
   ]
  },
  {
   "cell_type": "code",
   "execution_count": 6,
   "id": "b5419e8b",
   "metadata": {},
   "outputs": [
    {
     "data": {
      "text/plain": [
       "           ticket      login           open_time          close_time  symbol  cmd  volume\n",
       "0       372752301  290627505 2022-02-03 17:33:01 2022-02-03 17:39:00  EURUSD    0       3\n",
       "1       372752584  290627505 2022-02-03 17:34:02 2022-02-03 17:39:00  EURUSD    0       4\n",
       "2       372752581  290627505 2022-02-03 17:34:02 2022-02-03 17:39:04  EURUSD    0       3\n",
       "3       372752582  290627505 2022-02-03 17:34:02 2022-02-03 17:39:04  EURUSD    0       3\n",
       "4       372752586  290627505 2022-02-03 17:34:02 2022-02-03 17:39:04  EURUSD    0       3\n",
       "...           ...        ...                 ...                 ...     ...  ...     ...\n",
       "265634  372727735  290652685 2022-02-03 16:01:00 2022-02-11 21:02:11  EURUSD    1       5\n",
       "265635  373022961  290652685 2022-02-07 17:22:32 2022-02-08 09:21:30  XAUUSD    1      33\n",
       "265636  373034944  290652685 2022-02-07 18:33:19 2022-02-08 09:21:30  XAUUSD    1      59\n",
       "265637  372737533  290652685 2022-02-03 16:36:01 2022-02-11 20:46:19  EURJPY    1       5\n",
       "265638  372708879  290652685 2022-02-03 14:58:00 2022-02-11 21:02:11  EURUSD    1       5\n",
       "\n",
       "[258128 rows x 7 columns]"
      ]
     },
     "execution_count": 6,
     "metadata": {},
     "output_type": "execute_result"
    }
   ],
   "source": [
    "# Create a new data slice generalized with keys, and those that are not in the marked ones are marked as not to be excluded\n",
    "mt4_data = mt4_trades.merge(mt4_marked_trades, on='ticket', how='left').fillna(False)\n",
    "# Remove excluded ones\n",
    "mt4_data = mt4_data[(mt4_data.isExcluded) == False]\n",
    "# Remove the extra columns created after join\n",
    "mt4_data.drop(['Unnamed: 0_x', 'Unnamed: 0_y','type','isExcluded'], axis=1, inplace=True) \n",
    "# Correct date and time formats\n",
    "mt4_data['open_time'] = pd.to_datetime(mt4_data['open_time'])\n",
    "mt4_data['close_time'] = pd.to_datetime(mt4_data['close_time'])\n",
    "mt4_data"
   ]
  },
  {
   "cell_type": "markdown",
   "id": "6abdeb72",
   "metadata": {},
   "source": [
    "## mt5 preparing data for analysis"
   ]
  },
  {
   "cell_type": "code",
   "execution_count": 7,
   "id": "75e20785",
   "metadata": {},
   "outputs": [],
   "source": [
    "# write a CSV file to a DataFrame object\n",
    "mt5_deals = pd.read_csv(r\"C:\\Users\\fekuz\\OneDrive\\Документы\\Gleb\\Work\\Serbia\\Data-Driven Lab\\mt5_deals.csv\", sep = ',')\n",
    "mt5_marked_trades = pd.read_csv(r\"C:\\Users\\fekuz\\OneDrive\\Документы\\Gleb\\Work\\Serbia\\Data-Driven Lab\\mt5_marked_trades.csv\", sep = ',')"
   ]
  },
  {
   "cell_type": "markdown",
   "id": "b10ec370",
   "metadata": {},
   "source": [
    "The mt5.deals table contains information about customer transactions. It has columns:\n",
    "\n",
    "    deal – primary key, unique event identifier\n",
    "    positionid – order (deal) number, unique deal identifier\n",
    "    login – login of the client who made the transaction\n",
    "    time – event time\n",
    "    symbol – symbol, instrument on which the transaction was made\n",
    "    action – 0 if the deal is to buy, and 1 if the deal is to sell\n",
    "    entry – 0 if this event is the opening of a deal, 1 – otherwise.\n",
    "A deal can be closed by several events\n",
    "Thus, each transaction can have many records."
   ]
  },
  {
   "cell_type": "markdown",
   "id": "7dae968a",
   "metadata": {},
   "source": [
    "The mt5.marked_trades table contains information about marked trades. \n",
    "Some of these transactions will need to be excluded from consideration (see below)\n",
    "\n",
    "    positionid – primary key, deal identifier\n",
    "    type – a bit mask that indicates the reason for the marking.\n",
    "If the first bit of the type mask (numbering from 0) is 1, then such a transaction does not need to be taken into account"
   ]
  },
  {
   "cell_type": "code",
   "execution_count": 8,
   "id": "84be16c1",
   "metadata": {},
   "outputs": [
    {
     "data": {
      "text/plain": [
       "        Unnamed: 0        deal  positionid     login                 time symbol  action  entry\n",
       "0                0  2411908473  2505364436  22837778  2022-02-04 17:34:08   US30       0      0\n",
       "1                1  2411908840  2505364436  22837778  2022-02-04 17:34:51   US30       1      1\n",
       "2                2  2411908881  2505364838  22837778  2022-02-04 17:34:57   US30       0      0\n",
       "3                3  2411909170  2505365126  22837778  2022-02-04 17:35:37   US30       0      0\n",
       "4                4  2411909462  2505365431  22837778  2022-02-04 17:36:15   US30       0      0\n",
       "...            ...         ...         ...       ...                  ...    ...     ...    ...\n",
       "454221      454221  2411905915  2505361768  22837778  2022-02-04 17:29:04   US30       0      0\n",
       "454222      454222  2411906083  2505361935  22837778  2022-02-04 17:29:22   US30       0      0\n",
       "454223      454223  2411906235  2505362084  22837778  2022-02-04 17:29:39   US30       0      0\n",
       "454224      454224  2411906396  2505362269  22837778  2022-02-04 17:29:54   US30       0      0\n",
       "454225      454225  2411907350  2505362269  22837778  2022-02-04 17:31:09   US30       1      1\n",
       "\n",
       "[454226 rows x 8 columns]"
      ]
     },
     "execution_count": 8,
     "metadata": {},
     "output_type": "execute_result"
    }
   ],
   "source": [
    "# Convert float to int\n",
    "mt5_deals['deal'] = mt5_deals['deal'].astype(np.int64)\n",
    "mt5_deals['positionid'] = mt5_deals['positionid'].astype(np.int64)\n",
    "mt5_deals"
   ]
  },
  {
   "cell_type": "code",
   "execution_count": 9,
   "id": "799854f9",
   "metadata": {},
   "outputs": [
    {
     "data": {
      "text/plain": [
       "       Unnamed: 0  positionid  type\n",
       "0               0  2503897459    32\n",
       "1               1  2503974569     2\n",
       "2               2  2503930677    16\n",
       "3               3  2503488064    32\n",
       "4               4  2505655740    16\n",
       "...           ...         ...   ...\n",
       "19916       19916  2504153085    32\n",
       "19917       19917  2505439027    16\n",
       "19918       19918  2503973632    32\n",
       "19919       19919  2503887125     8\n",
       "19920       19920  2503685491     8\n",
       "\n",
       "[19921 rows x 3 columns]"
      ]
     },
     "execution_count": 9,
     "metadata": {},
     "output_type": "execute_result"
    }
   ],
   "source": [
    "# Convert float to int\n",
    "mt5_marked_trades['positionid'] = mt5_marked_trades['positionid'].astype(np.int64)\n",
    "mt5_marked_trades"
   ]
  },
  {
   "cell_type": "code",
   "execution_count": 10,
   "id": "bd7aa584",
   "metadata": {},
   "outputs": [
    {
     "data": {
      "text/plain": [
       "       Unnamed: 0  positionid  type  isExcluded\n",
       "0               0  2503897459    32       False\n",
       "1               1  2503974569     2        True\n",
       "2               2  2503930677    16       False\n",
       "3               3  2503488064    32       False\n",
       "4               4  2505655740    16       False\n",
       "...           ...         ...   ...         ...\n",
       "19916       19916  2504153085    32       False\n",
       "19917       19917  2505439027    16       False\n",
       "19918       19918  2503973632    32       False\n",
       "19919       19919  2503887125     8       False\n",
       "19920       19920  2503685491     8       False\n",
       "\n",
       "[19921 rows x 4 columns]"
      ]
     },
     "execution_count": 10,
     "metadata": {},
     "output_type": "execute_result"
    }
   ],
   "source": [
    "# Add a new column of excluded transactions isExcluded binary\n",
    "# according to the condition \n",
    "# (If the first bit of the type mask (numbering from 0) is equal to 1, \n",
    "# then such a transaction does not need to be taken into account)\n",
    "mt5_marked_trades['isExcluded'] = mt5_marked_trades.type &2 == 2\n",
    "mt5_marked_trades"
   ]
  },
  {
   "cell_type": "code",
   "execution_count": 11,
   "id": "57c95189",
   "metadata": {},
   "outputs": [
    {
     "data": {
      "text/plain": [
       "              deal  positionid     login                time symbol  action  entry\n",
       "3       2411909170  2505365126  22837778 2022-02-04 17:35:37   US30       0      0\n",
       "4       2411909462  2505365431  22837778 2022-02-04 17:36:15   US30       0      0\n",
       "5       2411910104  2505366058  22837778 2022-02-04 17:37:50   US30       0      0\n",
       "6       2411910149  2505366058  22837778 2022-02-04 17:38:00   US30       1      1\n",
       "7       2411910170  2505366149  22837778 2022-02-04 17:38:04   US30       0      0\n",
       "...            ...         ...       ...                 ...    ...     ...    ...\n",
       "454221  2411905915  2505361768  22837778 2022-02-04 17:29:04   US30       0      0\n",
       "454222  2411906083  2505361935  22837778 2022-02-04 17:29:22   US30       0      0\n",
       "454223  2411906235  2505362084  22837778 2022-02-04 17:29:39   US30       0      0\n",
       "454224  2411906396  2505362269  22837778 2022-02-04 17:29:54   US30       0      0\n",
       "454225  2411907350  2505362269  22837778 2022-02-04 17:31:09   US30       1      1\n",
       "\n",
       "[435437 rows x 7 columns]"
      ]
     },
     "execution_count": 11,
     "metadata": {},
     "output_type": "execute_result"
    }
   ],
   "source": [
    "# Create a new data slice generalized with keys, \n",
    "# and those that are not in the marked ones are marked as not to be excluded\n",
    "mt5_data = mt5_deals.merge(mt5_marked_trades, on='positionid', how='left').fillna(False)\n",
    "# Remove excluded ones\n",
    "mt5_data = mt5_data[(mt5_data.isExcluded) == False]\n",
    "# Remove the extra columns created after join\n",
    "mt5_data.drop(['Unnamed: 0_x', 'Unnamed: 0_y','type','isExcluded'], axis=1, inplace=True) \n",
    "# Correct date and time formats\n",
    "mt5_data['time'] = pd.to_datetime(mt5_data['time'])\n",
    "mt5_data"
   ]
  },
  {
   "cell_type": "markdown",
   "id": "26d2d821",
   "metadata": {},
   "source": [
    "# Problem 2.1 Find: For each user, the number of such transactions for which less than one minute passed from the moment of opening to the moment of complete closure"
   ]
  },
  {
   "cell_type": "markdown",
   "id": "22f5e964",
   "metadata": {},
   "source": [
    "## mt4"
   ]
  },
  {
   "cell_type": "code",
   "execution_count": 12,
   "id": "979600e3",
   "metadata": {},
   "outputs": [
    {
     "data": {
      "text/plain": [
       "           ticket      login           open_time          close_time  ... cmd  volume        Interval Task_2_1\n",
       "0       372752301  290627505 2022-02-03 17:33:01 2022-02-03 17:39:00  ...   0       3 0 days 00:05:59      173\n",
       "1       372752584  290627505 2022-02-03 17:34:02 2022-02-03 17:39:00  ...   0       4 0 days 00:04:58      173\n",
       "2       372752581  290627505 2022-02-03 17:34:02 2022-02-03 17:39:04  ...   0       3 0 days 00:05:02      173\n",
       "3       372752582  290627505 2022-02-03 17:34:02 2022-02-03 17:39:04  ...   0       3 0 days 00:05:02      173\n",
       "4       372752586  290627505 2022-02-03 17:34:02 2022-02-03 17:39:04  ...   0       3 0 days 00:05:02      173\n",
       "...           ...        ...                 ...                 ...  ...  ..     ...             ...      ...\n",
       "265634  372727735  290652685 2022-02-03 16:01:00 2022-02-11 21:02:11  ...   1       5 8 days 05:01:11       25\n",
       "265635  373022961  290652685 2022-02-07 17:22:32 2022-02-08 09:21:30  ...   1      33 0 days 15:58:58       25\n",
       "265636  373034944  290652685 2022-02-07 18:33:19 2022-02-08 09:21:30  ...   1      59 0 days 14:48:11       25\n",
       "265637  372737533  290652685 2022-02-03 16:36:01 2022-02-11 20:46:19  ...   1       5 8 days 04:10:18       25\n",
       "265638  372708879  290652685 2022-02-03 14:58:00 2022-02-11 21:02:11  ...   1       5 8 days 06:04:11       25\n",
       "\n",
       "[258128 rows x 9 columns]"
      ]
     },
     "execution_count": 12,
     "metadata": {},
     "output_type": "execute_result"
    }
   ],
   "source": [
    "# Let's add a new column with the value of the deal interval\n",
    "mt4_data['Interval'] = mt4_data.close_time - mt4_data.open_time\n",
    "# Add a column Task_2_1, \n",
    "# whose value is the frequency of login categories with transactions less than 60 seconds in time\n",
    "mt4_data['Task_2_1'] = mt4_data['login'].map(mt4_data[(mt4_data.Interval) < timedelta(seconds=60)].groupby('login').count().Interval)\n",
    "# Fill the NaN data with the value 0\n",
    "mt4_data['Task_2_1'].fillna(0, inplace=True)\n",
    "# Convert float to int\n",
    "mt4_data['Task_2_1'] = mt4_data['Task_2_1'].astype(int)\n",
    "mt4_data"
   ]
  },
  {
   "cell_type": "markdown",
   "id": "e5e6c1d5",
   "metadata": {},
   "source": [
    "## mt5"
   ]
  },
  {
   "cell_type": "code",
   "execution_count": 13,
   "id": "b2e47066",
   "metadata": {
    "scrolled": true
   },
   "outputs": [
    {
     "data": {
      "text/plain": [
       "              deal  positionid     login                time  ...         minOpenTime        maxCloseTime  \\\n",
       "3       2411909170  2505365126  22837778 2022-02-04 17:35:37  ... 2022-02-04 17:35:37 2022-02-04 18:27:01   \n",
       "4       2411909462  2505365431  22837778 2022-02-04 17:36:15  ... 2022-02-04 17:36:15 2022-02-04 18:25:49   \n",
       "5       2411910104  2505366058  22837778 2022-02-04 17:37:50  ... 2022-02-04 17:37:50 2022-02-04 17:38:00   \n",
       "6       2411910149  2505366058  22837778 2022-02-04 17:38:00  ... 2022-02-04 17:37:50 2022-02-04 17:38:00   \n",
       "7       2411910170  2505366149  22837778 2022-02-04 17:38:04  ... 2022-02-04 17:38:04 2022-02-04 17:40:12   \n",
       "...            ...         ...       ...                 ...  ...                 ...                 ...   \n",
       "454221  2411905915  2505361768  22837778 2022-02-04 17:29:04  ... 2022-02-04 17:29:04 2022-02-04 18:46:04   \n",
       "454222  2411906083  2505361935  22837778 2022-02-04 17:29:22  ... 2022-02-04 17:29:22 2022-02-04 18:35:21   \n",
       "454223  2411906235  2505362084  22837778 2022-02-04 17:29:39  ... 2022-02-04 17:29:39 2022-02-04 18:34:19   \n",
       "454224  2411906396  2505362269  22837778 2022-02-04 17:29:54  ... 2022-02-04 17:29:54 2022-02-04 17:31:09   \n",
       "454225  2411907350  2505362269  22837778 2022-02-04 17:31:09  ... 2022-02-04 17:29:54 2022-02-04 17:31:09   \n",
       "\n",
       "              Interval Task_2_1  \n",
       "3      0 days 00:51:24      437  \n",
       "4      0 days 00:49:34      437  \n",
       "5      0 days 00:00:10      437  \n",
       "6      0 days 00:00:10      437  \n",
       "7      0 days 00:02:08      437  \n",
       "...                ...      ...  \n",
       "454221 0 days 01:17:00      437  \n",
       "454222 0 days 01:05:59      437  \n",
       "454223 0 days 01:04:40      437  \n",
       "454224 0 days 00:01:15      437  \n",
       "454225 0 days 00:01:15      437  \n",
       "\n",
       "[435437 rows x 11 columns]"
      ]
     },
     "execution_count": 13,
     "metadata": {},
     "output_type": "execute_result"
    }
   ],
   "source": [
    "# Add a trade opening date column\n",
    "mt5_data['minOpenTime'] = mt5_data['positionid'].map(mt5_data[(mt5_data.entry) == 0].groupby('positionid').time.min())\n",
    "# Add a column for the date of complete closure of the transaction\n",
    "mt5_data['maxCloseTime'] = mt5_data['positionid'].map(mt5_data[(mt5_data.entry) == 1].groupby('positionid').time.max())\n",
    "# Add a new column with the trade interval value\n",
    "mt5_data['Interval'] = mt5_data.maxCloseTime - mt5_data.minOpenTime\n",
    "# Add a column Task_2_1, whose value is the frequency \n",
    "# of login categories with transactions less than 60 seconds in time\n",
    "mt5_data['Task_2_1'] = mt5_data['login'].map(mt5_data[(mt5_data.Interval) < timedelta(seconds=60)].groupby('login').agg(cntUniqPos =('positionid', 'nunique')).cntUniqPos)\n",
    "# Fill the NaN data with the value 0\n",
    "mt5_data['Task_2_1'].fillna(0, inplace=True)\n",
    "# Convert float to int\n",
    "mt5_data['Task_2_1'] = mt5_data['Task_2_1'].astype(int)\n",
    "mt5_data"
   ]
  },
  {
   "cell_type": "code",
   "execution_count": null,
   "id": "ada50161",
   "metadata": {},
   "outputs": [],
   "source": []
  }
 ],
 "metadata": {
  "kernelspec": {
   "display_name": "Python 3 (ipykernel)",
   "language": "python",
   "name": "python3"
  },
  "language_info": {
   "codemirror_mode": {
    "name": "ipython",
    "version": 3
   },
   "file_extension": ".py",
   "mimetype": "text/x-python",
   "name": "python",
   "nbconvert_exporter": "python",
   "pygments_lexer": "ipython3",
   "version": "3.9.13"
  }
 },
 "nbformat": 4,
 "nbformat_minor": 5
}
